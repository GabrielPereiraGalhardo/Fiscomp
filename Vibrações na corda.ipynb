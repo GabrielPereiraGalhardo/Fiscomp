{
 "cells": [
  {
   "cell_type": "markdown",
   "metadata": {},
   "source": [
    "$\\dfrac{\\partial^2 u}{\\partial t^2} = c^2 \\dfrac{\\partial^2 u}{\\partial x^2}$\n",
    "\n",
    "$u (x,t) = \\phi e^{iwt}$\n",
    "\n",
    "Assim,\n",
    "\n",
    "$\\dfrac{\\partial^2 }{\\partial t^2}(\\phi e^{iwt}) = c^2 \\dfrac{\\partial^2 }{\\partial x^2}(\\phi e^{iwt})$\n",
    "\n",
    "$- \\phi w^2 e^{iwt} = c^2 e^{iwt} \\dfrac{\\partial^2 \\phi}{\\partial x^2}$\n",
    "\n",
    "A equação diferencial para $\\phi(x)$ é\n",
    "\n",
    "$- \\phi \\dfrac{w^2}{c^2} = \\dfrac{\\partial^2 \\phi}{\\partial x^2}$\n",
    "\n",
    "As soluções para esse problema são \n",
    "\n",
    "$\\phi = Acos(\\dfrac{w}{c}x) + Bsen(\\dfrac{w}{c}x)$\n",
    "\n",
    "Aplicando as condições de contorno, onde\n",
    "\n",
    "$u(0,t) = [Acos(0) + Bsen(0)] e^{iwt} = 0$\n",
    "\n",
    "temos que $A = 0$, e\n",
    "\n",
    "$u(L,t) = Bsen(\\dfrac{w}{c}L) e^{iwt} = 0$\n",
    "\n",
    "temos que \n",
    "\n",
    "$\\dfrac{w}{c}L = \\dfrac{n \\pi}{}$\n"
   ]
  },
  {
   "cell_type": "code",
   "execution_count": null,
   "metadata": {},
   "outputs": [],
   "source": []
  }
 ],
 "metadata": {
  "kernelspec": {
   "display_name": "base",
   "language": "python",
   "name": "python3"
  },
  "language_info": {
   "codemirror_mode": {
    "name": "ipython",
    "version": 3
   },
   "file_extension": ".py",
   "mimetype": "text/x-python",
   "name": "python",
   "nbconvert_exporter": "python",
   "pygments_lexer": "ipython3",
   "version": "3.9.12"
  }
 },
 "nbformat": 4,
 "nbformat_minor": 2
}

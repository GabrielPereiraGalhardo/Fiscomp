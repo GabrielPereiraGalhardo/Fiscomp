{
 "cells": [
  {
   "cell_type": "code",
   "execution_count": 5,
   "metadata": {},
   "outputs": [
    {
     "name": "stdout",
     "output_type": "stream",
     "text": [
      "O fatorial de 3 é 6\n",
      "O fatorial de 1 é 1\n",
      "O fatorial de 10 é 3628800\n",
      "O fatorial de 0 é 1\n"
     ]
    }
   ],
   "source": [
    "import numpy as np\n",
    "import matplotlib.pyplot as plt\n",
    "\n",
    "def fatorial(n): #Calcula e retorna o fatorial de 'n', um número inteiro.\n",
    "    '''\n",
    "    Calcula e retorna o fatorial de n.\n",
    "\n",
    "    Argumentos\n",
    "    ----------\n",
    "    n: int\n",
    "        O número para o qual calcular o fatorial.\n",
    "\n",
    "    i: int\n",
    "        Variável criada para auxiliar o loop.\n",
    "\n",
    "    Retorna\n",
    "    -------\n",
    "    f: int\n",
    "        O fatorial de n.\n",
    "    '''\n",
    "\n",
    "    f = 1 #definimos uma variável igual à 1 para satisfazer o caso de 'n = 0'.\n",
    "\n",
    "    for i in range(1, n+1): #este loop roda para valores de i igual à 1 até 'n', ou seja, quando 'i = n' o loop para\n",
    "        f *= i #'f' recebe o valor de 'f' multiplicado por 'i', produzindo o calculo do fatorial\n",
    "\n",
    "    return f #retornamos o novo valor de 'f'\n",
    "\n",
    "print(f'O fatorial de 3 é {fatorial(3)}')\n",
    "\n",
    "print('O fatorial de 1 é', fatorial(1))\n",
    "\n",
    "f10 = fatorial(10)\n",
    "print(f'O fatorial de 10 é {f10}')\n",
    "\n",
    "f0 = fatorial(0)\n",
    "print('O fatorial de 0 é', f0)"
   ]
  }
 ],
 "metadata": {
  "kernelspec": {
   "display_name": "base",
   "language": "python",
   "name": "python3"
  },
  "language_info": {
   "codemirror_mode": {
    "name": "ipython",
    "version": 3
   },
   "file_extension": ".py",
   "mimetype": "text/x-python",
   "name": "python",
   "nbconvert_exporter": "python",
   "pygments_lexer": "ipython3",
   "version": "3.9.12"
  }
 },
 "nbformat": 4,
 "nbformat_minor": 2
}

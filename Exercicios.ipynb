{
  "cells": [
    {
      "cell_type": "markdown",
      "metadata": {
        "id": "RsEYNEYYZr0c"
      },
      "source": [
        "# Activites 1 - Gabriel Pereira Galhardo 12011FMT008\n",
        "\n"
      ]
    },
    {
      "cell_type": "markdown",
      "metadata": {
        "id": "rQDBGdwna1UC"
      },
      "source": [
        "# Atividades Mínimas"
      ]
    },
    {
      "cell_type": "markdown",
      "metadata": {
        "id": "YdSFP5OkaNLz"
      },
      "source": [
        "## 1. Fatorial"
      ]
    },
    {
      "cell_type": "code",
      "execution_count": null,
      "metadata": {
        "colab": {
          "base_uri": "https://localhost:8080/",
          "height": 106
        },
        "id": "c4IPPqzsTtTi",
        "outputId": "6e1a5689-17f8-41d8-9e8b-8ecf9eb60b6d"
      },
      "outputs": [
        {
          "ename": "IndentationError",
          "evalue": "expected an indented block after function definition on line 1 (<ipython-input-1-7dc5a81f9661>, line 2)",
          "output_type": "error",
          "traceback": [
            "\u001b[0;36m  File \u001b[0;32m\"<ipython-input-1-7dc5a81f9661>\"\u001b[0;36m, line \u001b[0;32m2\u001b[0m\n\u001b[0;31m    '''\u001b[0m\n\u001b[0m    ^\u001b[0m\n\u001b[0;31mIndentationError\u001b[0m\u001b[0;31m:\u001b[0m expected an indented block after function definition on line 1\n"
          ]
        }
      ],
      "source": [
        "def fatorial(n): #Calcula e retorna o fatorial de 'n', um número inteiro.\n",
        "'''\n",
        "    Calcula e retorna o fatorial de n.\n",
        "\n",
        "    Argumentos\n",
        "    ----------\n",
        "    n: int\n",
        "        O número para o qual calcular o fatorial.\n",
        "\n",
        "    i: int\n",
        "        Variável criada para auxiliar o loop.\n",
        "\n",
        "    Retorna\n",
        "    -------\n",
        "    f: int\n",
        "        O fatorial de n.\n",
        "    '''\n",
        "\n",
        "    f = 1 #definimos uma variável igual à 1 para satisfazer o caso de 'n = 0'.\n",
        "\n",
        "    for i in range(1, n+1): #este loop roda para valores de i igual à 1 até 'n', ou seja, quando 'i = n' o loop para\n",
        "        f *= i #'f' recebe o valor de 'f' multiplicado por 'i', produzindo o calculo do fatorial\n",
        "\n",
        "    return f #retornamos o novo valor de 'f'\n",
        "\n",
        "print(f'O fatorial de 3 é {fatorial(3)}')\n",
        "\n",
        "print('O fatorial de 1 é', fatorial(1))\n",
        "\n",
        "f10 = fatorial(10)\n",
        "print(f'O fatorial de 10 é {f10}')\n",
        "\n",
        "f0 = fatorial(0)\n",
        "print('O fatorial de 0 é', f0)"
      ]
    },
    {
      "cell_type": "markdown",
      "metadata": {
        "id": "isKi_MTiaSiA"
      },
      "source": [
        "## 2. Fibonacci"
      ]
    },
    {
      "cell_type": "code",
      "execution_count": null,
      "metadata": {
        "colab": {
          "base_uri": "https://localhost:8080/"
        },
        "id": "GQFc90h4YdlK",
        "outputId": "2ba52a20-ebed-4008-f365-4dbf3e791765"
      },
      "outputs": [
        {
          "name": "stdout",
          "output_type": "stream",
          "text": [
            "Sequência dos 5 primeiros números de Fibonacci: [1, 1, 2, 3, 5]\n",
            "Sequência dos 20 primeiros números de Fibonacci: [1, 1, 2, 3, 5, 8, 13, 21, 34, 55, 89, 144, 233, 377, 610, 987, 1597, 2584, 4181, 6765]\n",
            "Sequência dos 30 primeiros números de Fibonacci: [1, 1, 2, 3, 5, 8, 13, 21, 34, 55, 89, 144, 233, 377, 610, 987, 1597, 2584, 4181, 6765, 10946, 17711, 28657, 46368, 75025, 121393, 196418, 317811, 514229, 832040]\n"
          ]
        }
      ],
      "source": [
        "def fibonacci(n):\n",
        "    '''\n",
        "    Calcula e retorna os primeiros n números da sequência de Fibonacci\n",
        "\n",
        "    Argumentos\n",
        "    -----------\n",
        "    n: int\n",
        "        Número de elementos da sequência de Fibonacci a serem calculados\n",
        "\n",
        "    proxnum: int\n",
        "        Próximo número da sequência de Fibonacci.\n",
        "\n",
        "    Retorna\n",
        "    -----------\n",
        "    fibonacci: list\n",
        "        Lista com os primeiros n números da sequência de Fibonacci\n",
        "    '''\n",
        "    fibonacci = [1, 1] # definimos os primeiros números da sequência/lista de Fibonacci.\n",
        "\n",
        "    while len(fibonacci) < n : #enquanto a quantidade de números na lista 'fibonacci' for menor que 'n', o loop roda\n",
        "        proxnum = fibonacci[-1] + fibonacci[-2] #cálcula o proximo número da lista utilizando o último número '[-1]' e o somando com o penultimo '[-2]'\n",
        "        fibonacci.append(proxnum) #adiciona o valor de 'proxnum' na lista 'fibonacci'\n",
        "\n",
        "    return fibonacci # retorna a nova lista de Fibonacci\n",
        "\n",
        "print('Sequência dos 5 primeiros números de Fibonacci:', fibonacci(5))\n",
        "\n",
        "f = fibonacci(20)\n",
        "print('Sequência dos 20 primeiros números de Fibonacci:', f)\n",
        "\n",
        "numero = 30\n",
        "f = fibonacci(numero)\n",
        "print(f'Sequência dos {numero} primeiros números de Fibonacci: {f}')"
      ]
    },
    {
      "cell_type": "markdown",
      "metadata": {
        "id": "v_9oBZ3waW7w"
      },
      "source": [
        "## 3. Bhaskara"
      ]
    },
    {
      "cell_type": "code",
      "execution_count": null,
      "metadata": {
        "colab": {
          "base_uri": "https://localhost:8080/"
        },
        "id": "dqHvXvZse1BL",
        "outputId": "131dede9-e31e-4b85-f0d7-664f3da8db6d"
      },
      "outputs": [
        {
          "name": "stdout",
          "output_type": "stream",
          "text": [
            "A primeira raiz é: 1.0\n",
            "A segunda raiz é: -7.0\n"
          ]
        }
      ],
      "source": [
        "def bhaskara(a, b, c):\n",
        "    '''\n",
        "    Calcula e retorna as raízes de um polinômio de segundo grau utilizando a fórmula de Bhaskara\n",
        "\n",
        "    Argumentos\n",
        "    -----------\n",
        "    delta: float\n",
        "        Valor do discriminante.\n",
        "\n",
        "    a, b, c: float\n",
        "        Coeficientes do polinômio.\n",
        "\n",
        "    Retorna\n",
        "    -----------\n",
        "    x1, x2: float\n",
        "        As raízes do polinômio.\n",
        "\n",
        "    '''\n",
        "    delta = b**2 - 4*a*c  # valor do discriminante\n",
        "    x1 = (-b + delta**0.5) / (2*a) # primeira raiz\n",
        "    x2 = (-b - delta**0.5) / (2*a) # segunda raiz\n",
        "\n",
        "    return x1, x2 # tupla com as duas raízes\n",
        "\n",
        "x1, x2 = bhaskara(2, 12, -14)\n",
        "print('A primeira raiz é:', x1)\n",
        "print('A segunda raiz é:', x2)"
      ]
    },
    {
      "cell_type": "markdown",
      "metadata": {
        "id": "VgmhUUhZac-o"
      },
      "source": [
        "## 4. Divisores"
      ]
    },
    {
      "cell_type": "code",
      "execution_count": null,
      "metadata": {
        "colab": {
          "base_uri": "https://localhost:8080/"
        },
        "id": "RApIuNrYiI7I",
        "outputId": "ea1f107e-3a63-4fe0-e5fb-6afd8531e2e8"
      },
      "outputs": [
        {
          "name": "stdout",
          "output_type": "stream",
          "text": [
            "10 é divisível por 2? True\n",
            "10 é divisível por 3? False\n",
            "0 é divisível por 5? True\n",
            "97 é divisível por 0? False\n"
          ]
        }
      ],
      "source": [
        "def is_divisor(a, b):\n",
        "  \"\"\"\n",
        "  Verifica se 'a' é divisível por 'b'.\n",
        "\n",
        "  Argumentos\n",
        "  ----------\n",
        "    a: O número a ser dividido (dividendo).\n",
        "    b: O número pelo qual dividir (divisor).\n",
        "\n",
        "  Returna\n",
        "  ----------\n",
        "    True se 'a' é divisível por 'b', False caso contrário.\n",
        "\n",
        "  \"\"\"\n",
        "  if b == 0:\n",
        "    return False  # Evita divisão por zero\n",
        "\n",
        "  return a % b == 0 # retorna a resposta da seguinte pergunta: \"O resto da divisão entre 'a' e 'b' é igual à zero?\"\n",
        "\n",
        "\n",
        "print('10 é divisível por 2?', is_divisor(10, 2))\n",
        "print('10 é divisível por 3?', is_divisor(10, 3))\n",
        "print('0 é divisível por 5?', is_divisor(0, 5))\n",
        "print('97 é divisível por 0?', is_divisor(97, 0))\n",
        "\n",
        "\n"
      ]
    },
    {
      "cell_type": "markdown",
      "metadata": {
        "id": "cETaNC7Da4p9"
      },
      "source": [
        "## Atividades intermediárias"
      ]
    },
    {
      "cell_type": "markdown",
      "metadata": {
        "id": "D3ondoInajVO"
      },
      "source": [
        "##5. Fatorial - Loop while e funções recursivas\n",
        "  "
      ]
    },
    {
      "cell_type": "code",
      "execution_count": null,
      "metadata": {
        "colab": {
          "base_uri": "https://localhost:8080/"
        },
        "id": "LwV64diYB5yZ",
        "outputId": "7cf65eed-b8f9-4b00-fd63-b4ea3839502f"
      },
      "outputs": [
        {
          "name": "stdout",
          "output_type": "stream",
          "text": [
            "O fatorial de 3 é 6\n",
            "O fatorial de 1 é 1\n",
            "O fatorial de 10 é 3628800\n",
            "O fatorial de 0 é 1\n"
          ]
        }
      ],
      "source": [
        "def fatorial(n): #Calcula e retorna o fatorial de 'n', um número inteiro.\n",
        "    '''\n",
        "    Calcula e retorna o fatorial de n.\n",
        "\n",
        "    Argumentos\n",
        "    ----------\n",
        "    n: int\n",
        "        O número para o qual calcular o fatorial.\n",
        "\n",
        "    i: int\n",
        "        Variável criada para auxiliar o loop.\n",
        "\n",
        "    Retorna\n",
        "    -------\n",
        "    f: int\n",
        "        O fatorial de n.\n",
        "    '''\n",
        "\n",
        "    i = 1 #definimos uma variável igual à 1 para satisfazer o caso de 'n = 0'.\n",
        "    f = 1 #definimos uma variável igual à 1 para satisfazer o caso de 'n = 0'.\n",
        "\n",
        "    while i < (n+1): #este loop roda para valores de i igual à 1 até 'n', ou seja, quando 'i = n' o loop para\n",
        "        f *= i  #'f' recebe o valor de 'f' multiplicado por 'i', produzindo o calculo do fatorial\n",
        "        i = i + 1 # somamos 1 no valor de 'i' para realizar a multiplicação de números sucessivos\n",
        "\n",
        "    return f #retornamos o novo valor de 'f'\n",
        "\n",
        "print(f'O fatorial de 3 é {fatorial(3)}')\n",
        "\n",
        "print('O fatorial de 1 é', fatorial(1))\n",
        "\n",
        "f10 = fatorial(10)\n",
        "print(f'O fatorial de 10 é {f10}')\n",
        "\n",
        "f0 = fatorial(0)\n",
        "print('O fatorial de 0 é', f0)"
      ]
    },
    {
      "cell_type": "code",
      "execution_count": null,
      "metadata": {
        "colab": {
          "base_uri": "https://localhost:8080/"
        },
        "id": "0pVZuC6KlGQ5",
        "outputId": "4477dadf-f917-4d79-de4a-826fcb8c2aed"
      },
      "outputs": [
        {
          "name": "stdout",
          "output_type": "stream",
          "text": [
            "O fatorial de 3 é 6\n",
            "O fatorial de 1 é 1\n",
            "O fatorial de 10 é 3628800\n",
            "O fatorial de 0 é 1\n"
          ]
        }
      ],
      "source": [
        "def fatorial(n):\n",
        "    '''\n",
        "    Calcula e retorna o fatorial de n.\n",
        "\n",
        "    Argumentos\n",
        "    ----------\n",
        "    n: int\n",
        "        O número para o qual calcular o fatorial.\n",
        "\n",
        "    Retorna\n",
        "    -------\n",
        "    n * fatorial(n - 1): int\n",
        "        O fatorial de n.\n",
        "    '''\n",
        "\n",
        "    if n == 0: #comando utilizado para favorecer o caso do fatorial de 0. E também para manter o controle do fatorial, quando 'n' chega em 0 a função 'fatorial' para de fazer chamadas sucessivas\n",
        "        return 1\n",
        "\n",
        "    return n * fatorial(n - 1) #retorna o número 'n' multiplicado pelo número anterior sucessivamente até chegar em 'n=0', que retorna o último número à ser multiplicado: '1'.\n",
        "\n",
        "\n",
        "print(f'O fatorial de 3 é {fatorial(3)}')\n",
        "\n",
        "print('O fatorial de 1 é', fatorial(1))\n",
        "\n",
        "f10 = fatorial(10)\n",
        "print(f'O fatorial de 10 é {f10}')\n",
        "\n",
        "f0 = fatorial(0)\n",
        "print('O fatorial de 0 é', f0)\n"
      ]
    },
    {
      "cell_type": "markdown",
      "metadata": {
        "id": "qpUyngvibR5g"
      },
      "source": [
        "#6. Fibonnaci - Keyword argument, True and False"
      ]
    },
    {
      "cell_type": "code",
      "execution_count": null,
      "metadata": {
        "colab": {
          "base_uri": "https://localhost:8080/"
        },
        "id": "DQDsT5k1mygL",
        "outputId": "225d4c50-3de0-4a9f-84a8-fb66f9adb7c5"
      },
      "outputs": [
        {
          "name": "stdout",
          "output_type": "stream",
          "text": [
            "Sequência dos 5 primeiros números de Fibonacci: [1, 1, 2, 3, 5]\n",
            "O quinto número da sequência de Fibbonaci é: 5\n",
            "Sequência dos 20 primeiros números de Fibonacci: [1, 1, 2, 3, 5, 8, 13, 21, 34, 55, 89, 144, 233, 377, 610, 987, 1597, 2584, 4181, 6765]\n",
            "O 30º número da sequência de Fibonacci é: 832040\n"
          ]
        }
      ],
      "source": [
        "def fibonacci(n, lista_completa):\n",
        "    '''\n",
        "    Calcula e retorna os primeiros n números da sequência de Fibonacci\n",
        "\n",
        "    Argumentos\n",
        "    -----------\n",
        "    n: int\n",
        "        Número de elementos da sequência de Fibonacci a serem calculados\n",
        "\n",
        "    proxnum: int\n",
        "        Próximo número da sequência de Fibonacci.\n",
        "\n",
        "    Retorna\n",
        "    -----------\n",
        "    fibonacci: list\n",
        "        Lista com os primeiros n números da sequência de Fibonacci\n",
        "    '''\n",
        "    fibonacci = [1, 1] # definimos os primeiros números da sequência/lista de Fibonacci.\n",
        "\n",
        "    while len(fibonacci) < n : #enquanto a quantidade de números na lista 'fibonacci' for menor que 'n', o loop roda\n",
        "        proxnum = fibonacci[-1] + fibonacci[-2] #cálcula o proximo número da lista utilizando o último número '[-1]' e o somando com o penultimo '[-2]'\n",
        "        fibonacci.append(proxnum) #adiciona o valor de 'proxnum' na lista 'fibonacci'\n",
        "\n",
        "    if lista_completa == False :\n",
        "        return fibonacci[-1] # retorna o n-ésimo número da lista de Fibonacci\n",
        "\n",
        "    return fibonacci # retorna a nova lista de Fibonacci\n",
        "\n",
        "print('Sequência dos 5 primeiros números de Fibonacci:', fibonacci(5, True))\n",
        "print('O quinto número da sequência de Fibbonaci é:', fibonacci(5, False))\n",
        "\n",
        "\n",
        "f = fibonacci(20, True)\n",
        "print('Sequência dos 20 primeiros números de Fibonacci:', f)\n",
        "\n",
        "numero = 30\n",
        "f = fibonacci(numero, False)\n",
        "print(f'O {numero}º número da sequência de Fibonacci é: {f}')"
      ]
    },
    {
      "cell_type": "markdown",
      "metadata": {
        "id": "z5qMvHb6b3zK"
      },
      "source": [
        "# 7. Bhaskara - raízes complexas"
      ]
    },
    {
      "cell_type": "code",
      "execution_count": null,
      "metadata": {
        "colab": {
          "base_uri": "https://localhost:8080/"
        },
        "id": "bXpowY2kohkZ",
        "outputId": "939f3246-3b3a-454b-ddbc-23577cfd37b8"
      },
      "outputs": [
        {
          "name": "stdout",
          "output_type": "stream",
          "text": [
            "A primeira raiz é: -1.0000+1.4142j\n",
            "A segunda raiz é: -1.0000-1.4142j\n",
            "A primeira raiz é: -1.5\n",
            "A segunda raiz é: -1.5\n"
          ]
        }
      ],
      "source": [
        "def bhaskara(a, b, c):\n",
        "    '''\n",
        "    Calcula e retorna as raízes de um polinômio de segundo grau utilizando a fórmula de Bhaskara\n",
        "\n",
        "    Argumentos\n",
        "    -----------\n",
        "    delta: float\n",
        "        Valor do discriminante.\n",
        "\n",
        "    a, b, c: float\n",
        "        Coeficientes do polinômio.\n",
        "\n",
        "    Retorna\n",
        "    -----------\n",
        "    x1, x2: float\n",
        "        As raízes do polinômio.\n",
        "\n",
        "    '''\n",
        "\n",
        "    if a == 0 :\n",
        "      x1 = -c/b\n",
        "      x2 = -c/b\n",
        "      return x1, x2\n",
        "\n",
        "\n",
        "    delta = b**2 - 4*a*c  # valor do discriminante\n",
        "\n",
        "    x1 = (-b + delta**0.5) / (2*a) # primeira raiz\n",
        "    x2 = (-b - delta**0.5) / (2*a) # segunda raiz\n",
        "\n",
        "    return x1, x2 # tupla com as duas raízes\n",
        "\n",
        "x1, x2 = bhaskara(1, 2, 3)\n",
        "print(f'A primeira raiz é: {x1:.4f}')\n",
        "print(f'A segunda raiz é: {x2: .4f}')\n",
        "\n",
        "x1, x2 = bhaskara(0, 2, 3)\n",
        "print('A primeira raiz é:', x1)\n",
        "print('A segunda raiz é:', x2)"
      ]
    },
    {
      "cell_type": "markdown",
      "metadata": {
        "id": "CcUPVhUMjT8a"
      },
      "source": [
        "#Atividades Avançadas"
      ]
    },
    {
      "cell_type": "markdown",
      "metadata": {
        "id": "2sILwcGGeTdD"
      },
      "source": [
        "# 8. Fatorial e Fibonacci - assertions e assert"
      ]
    },
    {
      "cell_type": "code",
      "execution_count": null,
      "metadata": {
        "colab": {
          "base_uri": "https://localhost:8080/",
          "height": 384
        },
        "id": "RbuCfBDceTIh",
        "outputId": "22db2f9f-94a0-4b6c-84cf-4ea0b14e5a4b"
      },
      "outputs": [
        {
          "name": "stdout",
          "output_type": "stream",
          "text": [
            "O fatorial de 3 é 6\n",
            "O fatorial de 10 é 3628800\n",
            "O fatorial de 0 é 1\n"
          ]
        },
        {
          "ename": "AssertionError",
          "evalue": "O valor de 'n' deve ser um número inteiro.",
          "output_type": "error",
          "traceback": [
            "\u001b[0;31m---------------------------------------------------------------------------\u001b[0m",
            "\u001b[0;31mAssertionError\u001b[0m                            Traceback (most recent call last)",
            "\u001b[0;32m<ipython-input-8-c3100a72297d>\u001b[0m in \u001b[0;36m<cell line: 0>\u001b[0;34m()\u001b[0m\n\u001b[1;32m     29\u001b[0m \u001b[0mprint\u001b[0m\u001b[0;34m(\u001b[0m\u001b[0;34m'O fatorial de 0 é'\u001b[0m\u001b[0;34m,\u001b[0m \u001b[0mf0\u001b[0m\u001b[0;34m)\u001b[0m\u001b[0;34m\u001b[0m\u001b[0;34m\u001b[0m\u001b[0m\n\u001b[1;32m     30\u001b[0m \u001b[0;34m\u001b[0m\u001b[0m\n\u001b[0;32m---> 31\u001b[0;31m \u001b[0mprint\u001b[0m\u001b[0;34m(\u001b[0m\u001b[0;34mf'O fatorial de 3.5 é {fatorial(3.5)}'\u001b[0m\u001b[0;34m)\u001b[0m\u001b[0;34m\u001b[0m\u001b[0;34m\u001b[0m\u001b[0m\n\u001b[0m",
            "\u001b[0;32m<ipython-input-8-c3100a72297d>\u001b[0m in \u001b[0;36mfatorial\u001b[0;34m(n)\u001b[0m\n\u001b[1;32m     13\u001b[0m         \u001b[0mO\u001b[0m \u001b[0mfatorial\u001b[0m \u001b[0mde\u001b[0m \u001b[0mn\u001b[0m\u001b[0;34m.\u001b[0m\u001b[0;34m\u001b[0m\u001b[0;34m\u001b[0m\u001b[0m\n\u001b[1;32m     14\u001b[0m     '''\n\u001b[0;32m---> 15\u001b[0;31m     \u001b[0;32massert\u001b[0m \u001b[0misinstance\u001b[0m\u001b[0;34m(\u001b[0m\u001b[0mn\u001b[0m\u001b[0;34m,\u001b[0m \u001b[0mint\u001b[0m\u001b[0;34m)\u001b[0m\u001b[0;34m,\u001b[0m \u001b[0;34m\"O valor de 'n' deve ser um número inteiro.\"\u001b[0m \u001b[0;31m#Este comando garante que 'n' é inteiro.\u001b[0m\u001b[0;34m\u001b[0m\u001b[0;34m\u001b[0m\u001b[0m\n\u001b[0m\u001b[1;32m     16\u001b[0m \u001b[0;34m\u001b[0m\u001b[0m\n\u001b[1;32m     17\u001b[0m     \u001b[0;32mif\u001b[0m \u001b[0mn\u001b[0m \u001b[0;34m==\u001b[0m \u001b[0;36m0\u001b[0m\u001b[0;34m:\u001b[0m \u001b[0;31m#comando utilizado para favorecer o caso do fatorial de 0. E também para manter o controle do fatorial, quando 'n' chega em 0 a função 'fatorial' para de fazer chamadas sucessivas\u001b[0m\u001b[0;34m\u001b[0m\u001b[0;34m\u001b[0m\u001b[0m\n",
            "\u001b[0;31mAssertionError\u001b[0m: O valor de 'n' deve ser um número inteiro."
          ]
        }
      ],
      "source": [
        "def fatorial(n):\n",
        "    '''\n",
        "    Calcula e retorna o fatorial de n.\n",
        "\n",
        "    Argumentos\n",
        "    ----------\n",
        "    n: int\n",
        "        O número para o qual calcular o fatorial.\n",
        "\n",
        "    Retorna\n",
        "    -------\n",
        "    n * fatorial(n - 1): int\n",
        "        O fatorial de n.\n",
        "    '''\n",
        "    assert isinstance(n, int), \"O valor de 'n' deve ser um número inteiro.\" #Este comando garante que 'n' é inteiro.\n",
        "\n",
        "    if n == 0: #comando utilizado para favorecer o caso do fatorial de 0. E também para manter o controle do fatorial, quando 'n' chega em 0 a função 'fatorial' para de fazer chamadas sucessivas\n",
        "          return 1\n",
        "\n",
        "    return n * fatorial(n - 1) #retorna o número 'n' multiplicado pelo número anterior sucessivamente até chegar em 'n=0', que retorna o último número à ser multiplicado: '1'.\n",
        "\n",
        "\n",
        "print('O fatorial de 3 é', fatorial(3))\n",
        "\n",
        "f10 = fatorial(10)\n",
        "print(f'O fatorial de 10 é {f10}')\n",
        "\n",
        "f0 = fatorial(0)\n",
        "print('O fatorial de 0 é', f0)\n",
        "\n",
        "print(f'O fatorial de 3.5 é {fatorial(3.5)}')"
      ]
    },
    {
      "cell_type": "code",
      "execution_count": null,
      "metadata": {
        "colab": {
          "base_uri": "https://localhost:8080/",
          "height": 404
        },
        "id": "yalBFuSijNtg",
        "outputId": "bf075bd6-e1f2-4fdd-eb44-46616373143d"
      },
      "outputs": [
        {
          "name": "stdout",
          "output_type": "stream",
          "text": [
            "Sequência dos 5 primeiros números de Fibonacci: [1, 1, 2, 3, 5]\n",
            "O quinto número da sequência de Fibbonaci é: 5\n",
            "Sequência dos 20 primeiros números de Fibonacci: [1, 1, 2, 3, 5, 8, 13, 21, 34, 55, 89, 144, 233, 377, 610, 987, 1597, 2584, 4181, 6765]\n",
            "O 30º número da sequência de Fibonacci é: 832040\n"
          ]
        },
        {
          "ename": "AssertionError",
          "evalue": "A lista de números da sequência de Fibonacci devem ser do tipo Booleano.",
          "output_type": "error",
          "traceback": [
            "\u001b[0;31m---------------------------------------------------------------------------\u001b[0m",
            "\u001b[0;31mAssertionError\u001b[0m                            Traceback (most recent call last)",
            "\u001b[0;32m<ipython-input-11-7cfdb66a985b>\u001b[0m in \u001b[0;36m<cell line: 0>\u001b[0;34m()\u001b[0m\n\u001b[1;32m     42\u001b[0m \u001b[0mprint\u001b[0m\u001b[0;34m(\u001b[0m\u001b[0;34mf'O {numero}º número da sequência de Fibonacci é: {f}'\u001b[0m\u001b[0;34m)\u001b[0m\u001b[0;34m\u001b[0m\u001b[0;34m\u001b[0m\u001b[0m\n\u001b[1;32m     43\u001b[0m \u001b[0;34m\u001b[0m\u001b[0m\n\u001b[0;32m---> 44\u001b[0;31m \u001b[0mprint\u001b[0m\u001b[0;34m(\u001b[0m\u001b[0;34m'O quinto número da sequência de Fibbonaci é:'\u001b[0m\u001b[0;34m,\u001b[0m \u001b[0mfibonacci\u001b[0m\u001b[0;34m(\u001b[0m\u001b[0;36m5\u001b[0m\u001b[0;34m,\u001b[0m \u001b[0;32mNone\u001b[0m\u001b[0;34m)\u001b[0m\u001b[0;34m)\u001b[0m\u001b[0;34m\u001b[0m\u001b[0;34m\u001b[0m\u001b[0m\n\u001b[0m",
            "\u001b[0;32m<ipython-input-11-7cfdb66a985b>\u001b[0m in \u001b[0;36mfibonacci\u001b[0;34m(n, lista_completa)\u001b[0m\n\u001b[1;32m     27\u001b[0m         \u001b[0;32mreturn\u001b[0m \u001b[0mfibonacci\u001b[0m\u001b[0;34m[\u001b[0m\u001b[0;34m-\u001b[0m\u001b[0;36m1\u001b[0m\u001b[0;34m]\u001b[0m \u001b[0;31m# retorna o n-ésimo número da lista de Fibonacci\u001b[0m\u001b[0;34m\u001b[0m\u001b[0;34m\u001b[0m\u001b[0m\n\u001b[1;32m     28\u001b[0m \u001b[0;34m\u001b[0m\u001b[0m\n\u001b[0;32m---> 29\u001b[0;31m     \u001b[0;32massert\u001b[0m \u001b[0misinstance\u001b[0m\u001b[0;34m(\u001b[0m\u001b[0mlista_completa\u001b[0m\u001b[0;34m,\u001b[0m \u001b[0mbool\u001b[0m\u001b[0;34m)\u001b[0m\u001b[0;34m,\u001b[0m \u001b[0;34m\"A lista de números da sequência de Fibonacci devem ser do tipo Booleano.\"\u001b[0m\u001b[0;34m\u001b[0m\u001b[0;34m\u001b[0m\u001b[0m\n\u001b[0m\u001b[1;32m     30\u001b[0m \u001b[0;34m\u001b[0m\u001b[0m\n\u001b[1;32m     31\u001b[0m     \u001b[0;32mreturn\u001b[0m \u001b[0mfibonacci\u001b[0m \u001b[0;31m# retorna a nova lista de Fibonacci\u001b[0m\u001b[0;34m\u001b[0m\u001b[0;34m\u001b[0m\u001b[0m\n",
            "\u001b[0;31mAssertionError\u001b[0m: A lista de números da sequência de Fibonacci devem ser do tipo Booleano."
          ]
        }
      ],
      "source": [
        "def fibonacci(n, lista_completa):\n",
        "    '''\n",
        "    Calcula e retorna os primeiros n números da sequência de Fibonacci\n",
        "\n",
        "    Argumentos\n",
        "    -----------\n",
        "    n: int\n",
        "        Número de elementos da sequência de Fibonacci a serem calculados\n",
        "\n",
        "    proxnum: int\n",
        "        Próximo número da sequência de Fibonacci.\n",
        "\n",
        "    Retorna\n",
        "    -----------\n",
        "    fibonacci: list\n",
        "        Lista com os primeiros n números da sequência de Fibonacci\n",
        "    '''\n",
        "    fibonacci = [1, 1] # definimos os primeiros números da sequência/lista de Fibonacci.\n",
        "\n",
        "    assert isinstance(n, int), \"O valor de 'n' deve ser um número inteiro.\" #Este comando garante que 'n' é inteiro.\n",
        "\n",
        "    while len(fibonacci) < n : #enquanto a quantidade de números na lista 'fibonacci' for menor que 'n', o loop roda\n",
        "        proxnum = fibonacci[-1] + fibonacci[-2] #cálcula o proximo número da lista utilizando o último número '[-1]' e o somando com o penultimo '[-2]'\n",
        "        fibonacci.append(proxnum) #adiciona o valor de 'proxnum' na lista 'fibonacci'\n",
        "\n",
        "    if lista_completa == False :\n",
        "        return fibonacci[-1] # retorna o n-ésimo número da lista de Fibonacci\n",
        "\n",
        "    assert isinstance(lista_completa, bool), \"A lista de números da sequência de Fibonacci devem ser do tipo Booleano.\" #Este comando garante que 'lista_completa' é do tipo booleano.\n",
        "\n",
        "    return fibonacci # retorna a nova lista de Fibonacci\n",
        "\n",
        "print('Sequência dos 5 primeiros números de Fibonacci:', fibonacci(5, True))\n",
        "print('O quinto número da sequência de Fibbonaci é:', fibonacci(5, False))\n",
        "\n",
        "\n",
        "f = fibonacci(20, True)\n",
        "print('Sequência dos 20 primeiros números de Fibonacci:', f)\n",
        "\n",
        "numero = 30\n",
        "f = fibonacci(numero, False)\n",
        "print(f'O {numero}º número da sequência de Fibonacci é: {f}')\n",
        "\n",
        "print('O quinto número da sequência de Fibbonaci é:', fibonacci(5, None))"
      ]
    },
    {
      "cell_type": "markdown",
      "metadata": {
        "id": "IKjVfJ00mnMZ"
      },
      "source": [
        "#9. Bhaskara - assertions"
      ]
    },
    {
      "cell_type": "code",
      "execution_count": null,
      "metadata": {
        "colab": {
          "base_uri": "https://localhost:8080/",
          "height": 367
        },
        "id": "cWUrmSg4mrTR",
        "outputId": "ca8a3568-b6ed-47f1-cee9-79b1b198518d"
      },
      "outputs": [
        {
          "name": "stdout",
          "output_type": "stream",
          "text": [
            "A primeira raiz é: 1.0\n",
            "A segunda raiz é: -7.0\n"
          ]
        },
        {
          "ename": "AssertionError",
          "evalue": "Este programa só aceita valores maiores que zero para o discriminante Delta. O seu discriminante vale -8",
          "output_type": "error",
          "traceback": [
            "\u001b[0;31m---------------------------------------------------------------------------\u001b[0m",
            "\u001b[0;31mAssertionError\u001b[0m                            Traceback (most recent call last)",
            "\u001b[0;32m<ipython-input-1-fdbae34f9f54>\u001b[0m in \u001b[0;36m<cell line: 0>\u001b[0;34m()\u001b[0m\n\u001b[1;32m     34\u001b[0m \u001b[0mprint\u001b[0m\u001b[0;34m(\u001b[0m\u001b[0;34m'A segunda raiz é:'\u001b[0m\u001b[0;34m,\u001b[0m \u001b[0mx2\u001b[0m\u001b[0;34m)\u001b[0m\u001b[0;34m\u001b[0m\u001b[0;34m\u001b[0m\u001b[0m\n\u001b[1;32m     35\u001b[0m \u001b[0;34m\u001b[0m\u001b[0m\n\u001b[0;32m---> 36\u001b[0;31m \u001b[0mx1\u001b[0m\u001b[0;34m,\u001b[0m \u001b[0mx2\u001b[0m \u001b[0;34m=\u001b[0m \u001b[0mbhaskara\u001b[0m\u001b[0;34m(\u001b[0m\u001b[0;36m1\u001b[0m\u001b[0;34m,\u001b[0m \u001b[0;36m2\u001b[0m\u001b[0;34m,\u001b[0m \u001b[0;36m3\u001b[0m\u001b[0;34m)\u001b[0m\u001b[0;34m\u001b[0m\u001b[0;34m\u001b[0m\u001b[0m\n\u001b[0m\u001b[1;32m     37\u001b[0m \u001b[0mprint\u001b[0m\u001b[0;34m(\u001b[0m\u001b[0;34mf'A primeira raiz é: {x1:.4f}'\u001b[0m\u001b[0;34m)\u001b[0m\u001b[0;34m\u001b[0m\u001b[0;34m\u001b[0m\u001b[0m\n\u001b[1;32m     38\u001b[0m \u001b[0mprint\u001b[0m\u001b[0;34m(\u001b[0m\u001b[0;34mf'A segunda raiz é: {x2: .4f}'\u001b[0m\u001b[0;34m)\u001b[0m\u001b[0;34m\u001b[0m\u001b[0;34m\u001b[0m\u001b[0m\n",
            "\u001b[0;32m<ipython-input-1-fdbae34f9f54>\u001b[0m in \u001b[0;36mbhaskara\u001b[0;34m(a, b, c)\u001b[0m\n\u001b[1;32m     23\u001b[0m     \u001b[0mdelta\u001b[0m \u001b[0;34m=\u001b[0m \u001b[0mb\u001b[0m\u001b[0;34m**\u001b[0m\u001b[0;36m2\u001b[0m \u001b[0;34m-\u001b[0m \u001b[0;36m4\u001b[0m\u001b[0;34m*\u001b[0m\u001b[0ma\u001b[0m\u001b[0;34m*\u001b[0m\u001b[0mc\u001b[0m  \u001b[0;31m# valor do discriminante\u001b[0m\u001b[0;34m\u001b[0m\u001b[0;34m\u001b[0m\u001b[0m\n\u001b[1;32m     24\u001b[0m \u001b[0;34m\u001b[0m\u001b[0m\n\u001b[0;32m---> 25\u001b[0;31m     \u001b[0;32massert\u001b[0m \u001b[0mdelta\u001b[0m \u001b[0;34m>=\u001b[0m \u001b[0;36m0\u001b[0m\u001b[0;34m,\u001b[0m \u001b[0;34mf\"Este programa só aceita valores maiores que zero para o discriminante Delta. O seu discriminante vale {delta}\"\u001b[0m \u001b[0;31m#Este comando garante que o valor de Delta é maior que zero.\u001b[0m\u001b[0;34m\u001b[0m\u001b[0;34m\u001b[0m\u001b[0m\n\u001b[0m\u001b[1;32m     26\u001b[0m \u001b[0;34m\u001b[0m\u001b[0m\n\u001b[1;32m     27\u001b[0m     \u001b[0mx1\u001b[0m \u001b[0;34m=\u001b[0m \u001b[0;34m(\u001b[0m\u001b[0;34m-\u001b[0m\u001b[0mb\u001b[0m \u001b[0;34m+\u001b[0m \u001b[0mdelta\u001b[0m\u001b[0;34m**\u001b[0m\u001b[0;36m0.5\u001b[0m\u001b[0;34m)\u001b[0m \u001b[0;34m/\u001b[0m \u001b[0;34m(\u001b[0m\u001b[0;36m2\u001b[0m\u001b[0;34m*\u001b[0m\u001b[0ma\u001b[0m\u001b[0;34m)\u001b[0m \u001b[0;31m# primeira raiz\u001b[0m\u001b[0;34m\u001b[0m\u001b[0;34m\u001b[0m\u001b[0m\n",
            "\u001b[0;31mAssertionError\u001b[0m: Este programa só aceita valores maiores que zero para o discriminante Delta. O seu discriminante vale -8"
          ]
        }
      ],
      "source": [
        "def bhaskara(a, b, c):\n",
        "    '''\n",
        "    Calcula e retorna as raízes de um polinômio de segundo grau utilizando a fórmula de Bhaskara\n",
        "\n",
        "    Argumentos\n",
        "    -----------\n",
        "    delta: float\n",
        "        Valor do discriminante.\n",
        "\n",
        "    a, b, c: float\n",
        "        Coeficientes do polinômio.\n",
        "\n",
        "    Retorna\n",
        "    -----------\n",
        "    x1, x2: float\n",
        "        As raízes do polinômio.\n",
        "\n",
        "    '''\n",
        "\n",
        "    assert a != 0, \"Este programa só aceita valores diferentes de 0 para a constante que multiplica x ao quadrado.\" #Este comando garante que o valor de 'a' é diferente de zero.\n",
        "\n",
        "\n",
        "    delta = b**2 - 4*a*c  # valor do discriminante\n",
        "\n",
        "    assert delta >= 0, f\"Este programa só aceita valores maiores que zero para o discriminante Delta. O seu discriminante vale {delta}\" #Este comando garante que o valor de Delta é maior que zero.\n",
        "\n",
        "    x1 = (-b + delta**0.5) / (2*a) # primeira raiz\n",
        "    x2 = (-b - delta**0.5) / (2*a) # segunda raiz\n",
        "\n",
        "    return x1, x2 # tupla com as duas raízes\n",
        "\n",
        "x1, x2 = bhaskara(2, 12, -14)\n",
        "print('A primeira raiz é:', x1)\n",
        "print('A segunda raiz é:', x2)\n",
        "\n",
        "x1, x2 = bhaskara(1, 2, 3)\n",
        "print(f'A primeira raiz é: {x1:.4f}')\n",
        "print(f'A segunda raiz é: {x2: .4f}')\n",
        "\n",
        "x1, x2 = bhaskara(0, 2, 3)\n",
        "print('A primeira raiz é:', x1)\n",
        "print('A segunda raiz é:', x2)"
      ]
    },
    {
      "cell_type": "markdown",
      "metadata": {
        "id": "54qHmxTNoS87"
      },
      "source": [
        "#10. Divisores - assertions e try/except"
      ]
    },
    {
      "cell_type": "code",
      "execution_count": null,
      "metadata": {
        "colab": {
          "base_uri": "https://localhost:8080/",
          "height": 419
        },
        "id": "fkWhSXAboZYy",
        "outputId": "68371705-694c-4dc3-a735-6b427dffc652"
      },
      "outputs": [
        {
          "name": "stdout",
          "output_type": "stream",
          "text": [
            "10 é divisível por 2? True\n",
            "10 é divisível por 3? False\n",
            "0 é divisível por 5? True\n"
          ]
        },
        {
          "ename": "AssertionError",
          "evalue": "Ops! Não é possível dividir um número por 0.",
          "output_type": "error",
          "traceback": [
            "\u001b[0;31m---------------------------------------------------------------------------\u001b[0m",
            "\u001b[0;31mAssertionError\u001b[0m                            Traceback (most recent call last)",
            "\u001b[0;32m<ipython-input-17-113ba2931fbc>\u001b[0m in \u001b[0;36m<cell line: 0>\u001b[0;34m()\u001b[0m\n\u001b[1;32m     21\u001b[0m \u001b[0mprint\u001b[0m\u001b[0;34m(\u001b[0m\u001b[0;34m'10 é divisível por 3?'\u001b[0m\u001b[0;34m,\u001b[0m \u001b[0mis_divisor\u001b[0m\u001b[0;34m(\u001b[0m\u001b[0;36m10\u001b[0m\u001b[0;34m,\u001b[0m \u001b[0;36m3\u001b[0m\u001b[0;34m)\u001b[0m\u001b[0;34m)\u001b[0m\u001b[0;34m\u001b[0m\u001b[0;34m\u001b[0m\u001b[0m\n\u001b[1;32m     22\u001b[0m \u001b[0mprint\u001b[0m\u001b[0;34m(\u001b[0m\u001b[0;34m'0 é divisível por 5?'\u001b[0m\u001b[0;34m,\u001b[0m \u001b[0mis_divisor\u001b[0m\u001b[0;34m(\u001b[0m\u001b[0;36m0\u001b[0m\u001b[0;34m,\u001b[0m \u001b[0;36m5\u001b[0m\u001b[0;34m)\u001b[0m\u001b[0;34m)\u001b[0m\u001b[0;34m\u001b[0m\u001b[0;34m\u001b[0m\u001b[0m\n\u001b[0;32m---> 23\u001b[0;31m \u001b[0mprint\u001b[0m\u001b[0;34m(\u001b[0m\u001b[0;34m'97 é divisível por 0?'\u001b[0m\u001b[0;34m,\u001b[0m \u001b[0mis_divisor\u001b[0m\u001b[0;34m(\u001b[0m\u001b[0;36m97\u001b[0m\u001b[0;34m,\u001b[0m \u001b[0;36m0\u001b[0m\u001b[0;34m)\u001b[0m\u001b[0;34m)\u001b[0m\u001b[0;34m\u001b[0m\u001b[0;34m\u001b[0m\u001b[0m\n\u001b[0m\u001b[1;32m     24\u001b[0m \u001b[0;34m\u001b[0m\u001b[0m\n\u001b[1;32m     25\u001b[0m \u001b[0;34m\u001b[0m\u001b[0m\n",
            "\u001b[0;32m<ipython-input-17-113ba2931fbc>\u001b[0m in \u001b[0;36mis_divisor\u001b[0;34m(a, b)\u001b[0m\n\u001b[1;32m     13\u001b[0m \u001b[0;34m\u001b[0m\u001b[0m\n\u001b[1;32m     14\u001b[0m   \"\"\"\n\u001b[0;32m---> 15\u001b[0;31m   \u001b[0;32massert\u001b[0m \u001b[0mb\u001b[0m \u001b[0;34m!=\u001b[0m \u001b[0;36m0\u001b[0m\u001b[0;34m,\u001b[0m \u001b[0;34m\"Ops! Não é possível dividir um número por 0.\"\u001b[0m  \u001b[0;31m#Evita divisão por zero, e garante que 'b' é diferente de 0.\u001b[0m\u001b[0;34m\u001b[0m\u001b[0;34m\u001b[0m\u001b[0m\n\u001b[0m\u001b[1;32m     16\u001b[0m \u001b[0;34m\u001b[0m\u001b[0m\n\u001b[1;32m     17\u001b[0m   \u001b[0;32mreturn\u001b[0m \u001b[0ma\u001b[0m \u001b[0;34m%\u001b[0m \u001b[0mb\u001b[0m \u001b[0;34m==\u001b[0m \u001b[0;36m0\u001b[0m \u001b[0;31m# retorna a resposta da seguinte pergunta: \"O resto da divisão entre 'a' e 'b' é igual à zero?\"\u001b[0m\u001b[0;34m\u001b[0m\u001b[0;34m\u001b[0m\u001b[0m\n",
            "\u001b[0;31mAssertionError\u001b[0m: Ops! Não é possível dividir um número por 0."
          ]
        }
      ],
      "source": [
        "def is_divisor(a, b):\n",
        "  \"\"\"\n",
        "  Verifica se 'a' é divisível por 'b'.\n",
        "\n",
        "  Argumentos\n",
        "  ----------\n",
        "    a: O número a ser dividido (dividendo).\n",
        "    b: O número pelo qual dividir (divisor).\n",
        "\n",
        "  Returna\n",
        "  ----------\n",
        "    True se 'a' é divisível por 'b', False caso contrário.\n",
        "\n",
        "  \"\"\"\n",
        "  assert b != 0, \"Ops! Não é possível dividir um número por 0.\"  #Evita divisão por zero, e garante que 'b' é diferente de 0.\n",
        "\n",
        "  return a % b == 0 # retorna a resposta da seguinte pergunta: \"O resto da divisão entre 'a' e 'b' é igual à zero?\"\n",
        "\n",
        "\n",
        "print('10 é divisível por 2?', is_divisor(10, 2))\n",
        "print('10 é divisível por 3?', is_divisor(10, 3))\n",
        "print('0 é divisível por 5?', is_divisor(0, 5))\n",
        "print('97 é divisível por 0?', is_divisor(97, 0))\n",
        "\n",
        "\n"
      ]
    },
    {
      "cell_type": "code",
      "execution_count": null,
      "metadata": {
        "colab": {
          "base_uri": "https://localhost:8080/"
        },
        "id": "IbyerbhApINJ",
        "outputId": "0563e6a4-7952-4030-ac9c-02734ec51f8b"
      },
      "outputs": [
        {
          "name": "stdout",
          "output_type": "stream",
          "text": [
            "10 é divisível por 2? True\n",
            "10 é divisível por 3? False\n",
            "0 é divisível por 5? True\n",
            "Ops! não é possível dividir um número por 0, portanto\n",
            "97 é divisível por 0? None\n"
          ]
        }
      ],
      "source": [
        "def is_divisor(a, b):\n",
        "  \"\"\"\n",
        "  Verifica se 'a' é divisível por 'b'.\n",
        "\n",
        "  Argumentos\n",
        "  ----------\n",
        "    a: O número a ser dividido (dividendo).\n",
        "    b: O número pelo qual dividir (divisor).\n",
        "\n",
        "  Returna\n",
        "  ----------\n",
        "    True se 'a' é divisível por 'b', False caso contrário.\n",
        "\n",
        "  \"\"\"\n",
        "  try:\n",
        "    return a % b == 0 # retorna a resposta da seguinte pergunta: \"O resto da divisão entre 'a' e 'b' é igual à zero?\"\n",
        "\n",
        "  except ZeroDivisionError:\n",
        "    print(\"Ops! não é possível dividir um número por 0, portanto\")\n",
        "\n",
        "print('10 é divisível por 2?', is_divisor(10, 2))\n",
        "print('10 é divisível por 3?', is_divisor(10, 3))\n",
        "print('0 é divisível por 5?', is_divisor(0, 5))\n",
        "print('97 é divisível por 0?', is_divisor(97, 0))\n",
        "\n",
        "\n"
      ]
    }
  ],
  "metadata": {
    "colab": {
      "provenance": []
    },
    "kernelspec": {
      "display_name": "Python 3",
      "name": "python3"
    },
    "language_info": {
      "name": "python"
    }
  },
  "nbformat": 4,
  "nbformat_minor": 0
}
